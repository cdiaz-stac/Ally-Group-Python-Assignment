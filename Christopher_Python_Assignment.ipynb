{
 "cells": [
  {
   "cell_type": "markdown",
   "id": "512734ba",
   "metadata": {},
   "source": [
    "###### 18. Define a function called myfunc that takes in a string, and returns a matching string where every even letter is uppercase, and every odd letter is lowercase. Assume that the incoming string only contains letters, and don't worry about numbers, spaces or punctuation. The output string can start with either an uppercase or lowercase letter, so long as letters alternate throughout the string."
   ]
  },
  {
   "cell_type": "code",
   "execution_count": 15,
   "id": "395f6b28",
   "metadata": {},
   "outputs": [],
   "source": [
    "def myfunc(str1):\n",
    "    result = \"\"\n",
    "    for i in range(len(str1)):\n",
    "        if i % 2 == 0:\n",
    "            result += str1[i].upper()\n",
    "        else:\n",
    "            result += str1[i].lower()\n",
    "    return result"
   ]
  },
  {
   "cell_type": "markdown",
   "id": "f23a509b",
   "metadata": {},
   "source": [
    "###### Examples:"
   ]
  },
  {
   "cell_type": "code",
   "execution_count": 16,
   "id": "fdbf1bf1",
   "metadata": {},
   "outputs": [
    {
     "name": "stdout",
     "output_type": "stream",
     "text": [
      "PyThOn\n",
      "HeLlO WoRlD\n"
     ]
    }
   ],
   "source": [
    "result = myfunc(\"Python\")\n",
    "print(result) # Output: \"pYtHoN\"\n",
    "\n",
    "result = myfunc(\"Hello World\")\n",
    "print(result) # Output: \"hElLo wOrLd\""
   ]
  },
  {
   "cell_type": "markdown",
   "id": "a1b4000d",
   "metadata": {},
   "source": [
    "###### 17. Define a function called myfunc that takes in an arbitrary number of arguments, and returns a list containing only those arguments that are even."
   ]
  },
  {
   "cell_type": "code",
   "execution_count": 3,
   "id": "a3facd92",
   "metadata": {},
   "outputs": [],
   "source": [
    "def myfunc(*args):\n",
    "    result = []\n",
    "    for arg in args:\n",
    "        if arg % 2 == 0:\n",
    "            result.append(arg)\n",
    "    return result"
   ]
  },
  {
   "cell_type": "markdown",
   "id": "99b3369d",
   "metadata": {},
   "source": [
    "###### Examples:"
   ]
  },
  {
   "cell_type": "code",
   "execution_count": 4,
   "id": "030933e8",
   "metadata": {},
   "outputs": [
    {
     "name": "stdout",
     "output_type": "stream",
     "text": [
      "[2, 4]\n",
      "[2, 4, 6, 8, 10]\n",
      "[]\n"
     ]
    }
   ],
   "source": [
    "result = myfunc(1, 2, 3, 4, 5)\n",
    "print(result) # Output: [2, 4]\n",
    "\n",
    "result = myfunc(2, 4, 6, 8, 10)\n",
    "print(result) # Output: [2, 4, 6, 8, 10]\n",
    "\n",
    "result = myfunc(3, 5, 7, 9)\n",
    "print(result) # Output: []\n"
   ]
  },
  {
   "cell_type": "markdown",
   "id": "f303960a",
   "metadata": {},
   "source": [
    "###### 16. Define a function called myfunc that takes in an arbitrary number of arguments, and returns the sum of those arguments."
   ]
  },
  {
   "cell_type": "code",
   "execution_count": 5,
   "id": "30638339",
   "metadata": {},
   "outputs": [],
   "source": [
    "def myfunc(*args):\n",
    "    result = 0\n",
    "    for arg in args:\n",
    "        result += arg\n",
    "    return result"
   ]
  },
  {
   "cell_type": "markdown",
   "id": "b183027a",
   "metadata": {},
   "source": [
    "###### Examples:"
   ]
  },
  {
   "cell_type": "code",
   "execution_count": 6,
   "id": "2c2ec158",
   "metadata": {},
   "outputs": [
    {
     "name": "stdout",
     "output_type": "stream",
     "text": [
      "15\n",
      "30\n",
      "24\n"
     ]
    }
   ],
   "source": [
    "result = myfunc(1, 2, 3, 4, 5)\n",
    "print(result) # Output: 15\n",
    "\n",
    "result = myfunc(2, 4, 6, 8, 10)\n",
    "print(result) # Output: 30\n",
    "\n",
    "result = myfunc(3, 5, 7, 9)\n",
    "print(result) # Output: 24"
   ]
  },
  {
   "cell_type": "markdown",
   "id": "f6508b19",
   "metadata": {},
   "source": [
    "###### 15. Define a function called is_greater that takes in two arguments and returns True if the first value is greater than the second, False if it is less than or equal to the second."
   ]
  },
  {
   "cell_type": "code",
   "execution_count": 7,
   "id": "f7b479f5",
   "metadata": {},
   "outputs": [],
   "source": [
    "def is_greater(a, b):\n",
    "    if a > b:\n",
    "        return True\n",
    "    else:\n",
    "        return False"
   ]
  },
  {
   "cell_type": "markdown",
   "id": "eaa800e5",
   "metadata": {},
   "source": [
    "###### Examples:"
   ]
  },
  {
   "cell_type": "code",
   "execution_count": 8,
   "id": "627bb40f",
   "metadata": {},
   "outputs": [
    {
     "name": "stdout",
     "output_type": "stream",
     "text": [
      "False\n",
      "True\n",
      "False\n"
     ]
    }
   ],
   "source": [
    "result = is_greater(5, 10)\n",
    "print(result) # Output: False\n",
    "\n",
    "result = is_greater(15, 10)\n",
    "print(result) # Output: True\n",
    "\n",
    "result = is_greater(10, 10)\n",
    "print(result) # Output: False"
   ]
  },
  {
   "cell_type": "markdown",
   "id": "cff34812",
   "metadata": {},
   "source": [
    "###### 14. Define a function called is_even that takes in one argument and returns True if the passed-in value is even, False if it is not."
   ]
  },
  {
   "cell_type": "code",
   "execution_count": 9,
   "id": "d657a5c2",
   "metadata": {},
   "outputs": [],
   "source": [
    "def is_even(num):\n",
    "    if num % 2 == 0:\n",
    "        return True\n",
    "    else:\n",
    "        return False"
   ]
  },
  {
   "cell_type": "markdown",
   "id": "8e76eee3",
   "metadata": {},
   "source": [
    "###### Examples:"
   ]
  },
  {
   "cell_type": "code",
   "execution_count": 10,
   "id": "187499cd",
   "metadata": {},
   "outputs": [
    {
     "name": "stdout",
     "output_type": "stream",
     "text": [
      "True\n",
      "False\n",
      "True\n"
     ]
    }
   ],
   "source": [
    "result = is_even(2)\n",
    "print(result) # Output: True\n",
    "\n",
    "result = is_even(5)\n",
    "print(result) # Output: False\n",
    "\n",
    "result = is_even(10)\n",
    "print(result) # Output: True"
   ]
  },
  {
   "cell_type": "markdown",
   "id": "bb05f3dd",
   "metadata": {},
   "source": [
    "###### 13. Define a function called myfunc that takes in two arguments and returns their sum."
   ]
  },
  {
   "cell_type": "code",
   "execution_count": 11,
   "id": "c36b267b",
   "metadata": {},
   "outputs": [],
   "source": [
    "def myfunc(a, b):\n",
    "    return a + b"
   ]
  },
  {
   "cell_type": "markdown",
   "id": "7f7ddbcc",
   "metadata": {},
   "source": [
    "###### Examples:"
   ]
  },
  {
   "cell_type": "code",
   "execution_count": 12,
   "id": "24120514",
   "metadata": {},
   "outputs": [
    {
     "name": "stdout",
     "output_type": "stream",
     "text": [
      "5\n",
      "25\n",
      "1\n"
     ]
    }
   ],
   "source": [
    "result = myfunc(2, 3)\n",
    "print(result) # Output: 5\n",
    "\n",
    "result = myfunc(10, 15)\n",
    "print(result) # Output: 25\n",
    "\n",
    "result = myfunc(-2, 3)\n",
    "print(result) # Output: 1"
   ]
  },
  {
   "cell_type": "markdown",
   "id": "1d552ff5",
   "metadata": {},
   "source": [
    "###### 12. Define a function called myfunc that takes three arguments, x, y and z.If z is True, return x.  If z is False, return y"
   ]
  },
  {
   "cell_type": "code",
   "execution_count": 21,
   "id": "3b5a0db2",
   "metadata": {},
   "outputs": [],
   "source": [
    "def myfunc(x, y, z):\n",
    "    if z:\n",
    "        return x\n",
    "    else:\n",
    "        return y"
   ]
  },
  {
   "cell_type": "markdown",
   "id": "406884de",
   "metadata": {},
   "source": [
    "###### Examples:"
   ]
  },
  {
   "cell_type": "code",
   "execution_count": 23,
   "id": "b76462bb",
   "metadata": {},
   "outputs": [
    {
     "name": "stdout",
     "output_type": "stream",
     "text": [
      "2\n",
      "3\n",
      "2\n"
     ]
    }
   ],
   "source": [
    "result = myfunc(2, 3, True)\n",
    "print(result) # Output: 2\n",
    "\n",
    "result = myfunc(2, 3, False)\n",
    "print(result) # Output: 15\n",
    "\n",
    "result = myfunc(2, 3, True)\n",
    "print(result) # Output: -2"
   ]
  }
 ],
 "metadata": {
  "kernelspec": {
   "display_name": "Python 3 (ipykernel)",
   "language": "python",
   "name": "python3"
  },
  "language_info": {
   "codemirror_mode": {
    "name": "ipython",
    "version": 3
   },
   "file_extension": ".py",
   "mimetype": "text/x-python",
   "name": "python",
   "nbconvert_exporter": "python",
   "pygments_lexer": "ipython3",
   "version": "3.9.13"
  }
 },
 "nbformat": 4,
 "nbformat_minor": 5
}
