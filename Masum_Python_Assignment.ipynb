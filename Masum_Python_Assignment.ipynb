{
 "cells": [
  {
   "attachments": {},
   "cell_type": "markdown",
   "id": "b19427ff",
   "metadata": {},
   "source": [
    "1.Write a string index that returns just the letter 'r'  from 'Hello World' ."
   ]
  },
  {
   "cell_type": "code",
   "execution_count": 4,
   "id": "43df2845",
   "metadata": {},
   "outputs": [
    {
     "data": {
      "text/plain": [
       "'r'"
      ]
     },
     "execution_count": 4,
     "metadata": {},
     "output_type": "execute_result"
    }
   ],
   "source": [
    "a1=\"Hello World\"\n",
    "\n",
    "def print1():\n",
    "    return (a1[8])\n",
    "print1()    "
   ]
  },
  {
   "cell_type": "markdown",
   "id": "23c9514c",
   "metadata": {},
   "source": [
    "2.Use string slicing to grab the word 'ink'  from inside 'tinker‘\n"
   ]
  },
  {
   "cell_type": "code",
   "execution_count": 11,
   "id": "634f63c9",
   "metadata": {},
   "outputs": [
    {
     "data": {
      "text/plain": [
       "'ink'"
      ]
     },
     "execution_count": 11,
     "metadata": {},
     "output_type": "execute_result"
    }
   ],
   "source": [
    "a2=\"tinker\"\n",
    "def print2():\n",
    "    return (a2[1:4])\n",
    "print2()    "
   ]
  },
  {
   "cell_type": "markdown",
   "id": "b1178055",
   "metadata": {},
   "source": [
    "3.Write an expression using any of the string formatting methods we have \n",
    "learned to return the phrase 'Python rules!‘"
   ]
  },
  {
   "cell_type": "code",
   "execution_count": 16,
   "id": "8ae7067a",
   "metadata": {},
   "outputs": [
    {
     "name": "stdout",
     "output_type": "stream",
     "text": [
      "Python rules!\n"
     ]
    }
   ],
   "source": [
    "a3 = \"{Java}{sucks}\"\n",
    "print(a3.format(Java = \"Python \",sucks= \"rules!\"))"
   ]
  },
  {
   "cell_type": "markdown",
   "id": "4c497bbc",
   "metadata": {},
   "source": [
    "4.Create a list that contains at least one string, one integer and one float."
   ]
  },
  {
   "cell_type": "code",
   "execution_count": 23,
   "id": "d8f3497d",
   "metadata": {},
   "outputs": [
    {
     "name": "stdout",
     "output_type": "stream",
     "text": [
      "['1.755', 1.755, 1]\n"
     ]
    }
   ],
   "source": [
    "oneString=\"1.755\"\n",
    "oneFloat=float(oneString)\n",
    "oneInt=int(oneFloat)\n",
    "a4=[oneString,oneFloat,oneInt]\n",
    "print(a4)"
   ]
  },
  {
   "cell_type": "markdown",
   "id": "9a4fe704",
   "metadata": {},
   "source": [
    "5.Create a dictionary where all the keys are strings, and all the values are integers."
   ]
  },
  {
   "cell_type": "code",
   "execution_count": 29,
   "id": "7747e4f9",
   "metadata": {},
   "outputs": [
    {
     "name": "stdout",
     "output_type": "stream",
     "text": [
      "{'eh': 21, 'Can you do something for me?': 21, '21': 21}\n"
     ]
    }
   ],
   "source": [
    "A_Dictionary_Where_All_The_Keys_Are_Strings_Season_2={\"eh\":21,\"Can you do something for me?\":21,\"21\":21}\n",
    "print(A_Dictionary_Where_All_The_Keys_Are_Strings_Season_2)"
   ]
  },
  {
   "cell_type": "markdown",
   "id": "3eae5d73",
   "metadata": {},
   "source": [
    "5.Write an expression that would turn the string 'Mississippi'  into a set of unique letters."
   ]
  },
  {
   "cell_type": "code",
   "execution_count": 40,
   "id": "30c706b2",
   "metadata": {},
   "outputs": [
    {
     "name": "stdout",
     "output_type": "stream",
     "text": [
      "psiM\n"
     ]
    }
   ],
   "source": [
    "a6=\"Mississippi\"\n",
    "a6Set={\"\"}\n",
    "for n,letter in enumerate(a6):\n",
    "    a6Set.add(letter)\n",
    "    a6String=''.join(a6Set)\n",
    "print(a6String)\n",
    "    "
   ]
  },
  {
   "cell_type": "markdown",
   "id": "b42c21cf",
   "metadata": {},
   "source": [
    "6.Write a script that opens a file named 'test.txt' , writes 'Hello World'  to the file, then closes it.\n"
   ]
  },
  {
   "cell_type": "code",
   "execution_count": 43,
   "id": "7e92e1c4",
   "metadata": {},
   "outputs": [
    {
     "data": {
      "text/plain": [
       "11"
      ]
     },
     "execution_count": 43,
     "metadata": {},
     "output_type": "execute_result"
    }
   ],
   "source": [
    "a7=open('C:\\\\Users\\\\Masum Mazid\\\\Python-Ally\\\\test.txt','w')\n",
    "\n",
    "a7.write(\"Hello World\")"
   ]
  },
  {
   "attachments": {},
   "cell_type": "markdown",
   "id": "cd617e27",
   "metadata": {},
   "source": [
    "9.Write a function called myfunc that prints the string 'Hello World'.\n"
   ]
  },
  {
   "cell_type": "code",
   "execution_count": 44,
   "id": "8965887b",
   "metadata": {},
   "outputs": [
    {
     "name": "stdout",
     "output_type": "stream",
     "text": [
      "Hello World\n"
     ]
    }
   ],
   "source": [
    "def myfunc():\n",
    "    print(\"Hello World\")\n",
    "myfunc()"
   ]
  },
  {
   "cell_type": "markdown",
   "id": "2004f19f",
   "metadata": {},
   "source": [
    " 10.Define a function called myfunc that takes in a name, and prints 'Hello Name‘\n"
   ]
  },
  {
   "cell_type": "code",
   "execution_count": 45,
   "id": "83eef4f7",
   "metadata": {},
   "outputs": [
    {
     "name": "stdout",
     "output_type": "stream",
     "text": [
      "Hello World\n"
     ]
    }
   ],
   "source": [
    "a9=\"name\"\n",
    "def myfunc(a9):\n",
    "    print(\"Hello World\")\n",
    "myfunc(a9)"
   ]
  },
  {
   "cell_type": "markdown",
   "id": "7ae693ae",
   "metadata": {},
   "source": [
    "11.Define a function called myfunc that takes in a Boolean value (True or False). If True, return 'Hello', and if False, return 'Goodbye‘\n"
   ]
  },
  {
   "cell_type": "code",
   "execution_count": 49,
   "id": "4fe8d06f",
   "metadata": {},
   "outputs": [
    {
     "name": "stdout",
     "output_type": "stream",
     "text": [
      "Hello World\n",
      "Goodbye\n"
     ]
    }
   ],
   "source": [
    "a10=9>3\n",
    "a10_1=9<3\n",
    "def myfunc(a10):\n",
    "    if(a10):\n",
    "        print(\"Hello World\")\n",
    "    else:\n",
    "        print(\"Goodbye\") \n",
    "myfunc(a10)\n",
    "myfunc(a10_1)"
   ]
  },
  {
   "cell_type": "markdown",
   "id": "ac4c47d0",
   "metadata": {},
   "source": [
    "12.Define a function called myfunc that takes three arguments, x, y and z.If z is True, return x.  If z is False, return y.\n"
   ]
  },
  {
   "cell_type": "code",
   "execution_count": 56,
   "id": "823d366c",
   "metadata": {},
   "outputs": [
    {
     "data": {
      "text/plain": [
       "'y'"
      ]
     },
     "execution_count": 56,
     "metadata": {},
     "output_type": "execute_result"
    }
   ],
   "source": [
    "z=True\n",
    "x=\"x\"\n",
    "y=\"y\"\n",
    "def myfunc(z,x,y):\n",
    "    if(z):\n",
    "        return x\n",
    "    else:\n",
    "        return y\n",
    "    \n",
    "myfunc(z,x,y)\n",
    "\n",
    "z=False\n",
    "myfunc(z,x,y)\n"
   ]
  },
  {
   "cell_type": "markdown",
   "id": "a94f78e4",
   "metadata": {},
   "source": [
    "13.Define a function called myfunc that takes in two arguments and returns their sum.\n",
    "\n"
   ]
  },
  {
   "cell_type": "code",
   "execution_count": 58,
   "id": "0cc626f7",
   "metadata": {},
   "outputs": [
    {
     "data": {
      "text/plain": [
       "10"
      ]
     },
     "execution_count": 58,
     "metadata": {},
     "output_type": "execute_result"
    }
   ],
   "source": [
    "def myfunc (x,y):\n",
    "    return x+ y\n",
    "myfunc(4,6)"
   ]
  },
  {
   "cell_type": "markdown",
   "id": "cf6b6001",
   "metadata": {},
   "source": [
    "Define a function called is_even that takes in one argument, and returns True if the passed-in value is even, False if it is not.\n"
   ]
  },
  {
   "cell_type": "markdown",
   "id": "f5e99355",
   "metadata": {},
   "source": [
    "Define a function called is_greater that takes in two arguments, and returns True if the first value is greater than the second, False if it is less than or equal to the second.\n"
   ]
  },
  {
   "cell_type": "markdown",
   "id": "97f0cfd3",
   "metadata": {},
   "source": [
    "Define a function called myfunc that takes in an arbitrary number of arguments, and returns the sum of those arguments.\n"
   ]
  },
  {
   "cell_type": "markdown",
   "id": "d693d1b4",
   "metadata": {},
   "source": [
    "Define a function called myfunc that takes in an arbitrary number of arguments, and returns a list containing only those arguments that are even.\n"
   ]
  },
  {
   "cell_type": "markdown",
   "id": "e2012791",
   "metadata": {},
   "source": [
    "Define a function called myfunc that takes in a string, and returns a matching string where every even letter is uppercase, and every odd letter is lowercase. Assume that the incoming string only contains letters, and don't worry about numbers, spaces or punctuation. The output string can start with either an uppercase or lowercase letter, so long as letters alternate throughout the string.\n"
   ]
  }
 ],
 "metadata": {
  "kernelspec": {
   "display_name": "Python 3 (ipykernel)",
   "language": "python",
   "name": "python3"
  },
  "language_info": {
   "codemirror_mode": {
    "name": "ipython",
    "version": 3
   },
   "file_extension": ".py",
   "mimetype": "text/x-python",
   "name": "python",
   "nbconvert_exporter": "python",
   "pygments_lexer": "ipython3",
   "version": "3.9.13"
  }
 },
 "nbformat": 4,
 "nbformat_minor": 5
}
